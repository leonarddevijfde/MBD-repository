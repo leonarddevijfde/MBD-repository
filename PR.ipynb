{
 "cells": [
  {
   "cell_type": "code",
   "execution_count": 61,
   "id": "e91b4aa4-eac4-4989-bee8-786d55d50897",
   "metadata": {},
   "outputs": [],
   "source": [
    "import pandas as pd\n",
    "import numpy as np\n",
    "import seaborn as sns\n",
    "import matplotlib.pyplot as plt\n",
    "from collections import defaultdict\n",
    "\n",
    "from ema_workbench import (Policy, MultiprocessingEvaluator, save_results, load_results)\n",
    "\n",
    "from ema_workbench.analysis import parcoords, prim\n",
    "\n",
    "from problem_formulation import get_model_for_problem_formulation"
   ]
  },
  {
   "cell_type": "code",
   "execution_count": 3,
   "id": "8da088d5-b7e7-40c8-a8b2-94d69198b04f",
   "metadata": {},
   "outputs": [],
   "source": [
    "pareto_policies = pd.read_csv('data/Pareto_Optimal_Results.csv')\n",
    "dike_model, steps = get_model_for_problem_formulation(2)"
   ]
  },
  {
   "cell_type": "code",
   "execution_count": 63,
   "id": "e38086ea-8135-403a-94af-08001c61b070",
   "metadata": {},
   "outputs": [
    {
     "data": {
      "text/plain": [
       "Index(['0_RfR 0', '0_RfR 1', '0_RfR 2', '1_RfR 0', '1_RfR 1', '1_RfR 2',\n",
       "       '2_RfR 0', '2_RfR 1', '2_RfR 2', '3_RfR 0', '3_RfR 1', '3_RfR 2',\n",
       "       '4_RfR 0', '4_RfR 1', '4_RfR 2', 'EWS_DaysToThreat',\n",
       "       'A.1_DikeIncrease 0', 'A.1_DikeIncrease 1', 'A.1_DikeIncrease 2',\n",
       "       'A.2_DikeIncrease 0', 'A.2_DikeIncrease 1', 'A.2_DikeIncrease 2',\n",
       "       'A.3_DikeIncrease 0', 'A.3_DikeIncrease 1', 'A.3_DikeIncrease 2',\n",
       "       'A.4_DikeIncrease 0', 'A.4_DikeIncrease 1', 'A.4_DikeIncrease 2',\n",
       "       'A.5_DikeIncrease 0', 'A.5_DikeIncrease 1', 'A.5_DikeIncrease 2',\n",
       "       'Expected Annual Damage', 'Dike Investment Costs',\n",
       "       'RfR Investment Costs', 'Evacuation Costs', 'Expected Number of Deaths',\n",
       "       'Unnamed: 0', 'All Costs'],\n",
       "      dtype='object')"
      ]
     },
     "execution_count": 63,
     "metadata": {},
     "output_type": "execute_result"
    }
   ],
   "source": [
    "pareto_policies.columns"
   ]
  },
  {
   "cell_type": "code",
   "execution_count": 5,
   "id": "2b5e7101-59f1-44f4-9869-d6f60d19f033",
   "metadata": {},
   "outputs": [],
   "source": [
    "def create_policy_list():\n",
    "    policy_list = []\n",
    "    for i, policy in pareto_policies.iterrows():\n",
    "        policy_dictionary = policy.to_dict()\n",
    "        name = f\"policy_{i}\"\n",
    "        policy_list.append(Policy(name = name, **policy_dictionary))\n",
    "    return policy_list"
   ]
  },
  {
   "cell_type": "code",
   "execution_count": 19,
   "id": "fe186f64-6180-4172-a52f-8534a00bfdaf",
   "metadata": {},
   "outputs": [],
   "source": [
    "policies = create_policy_list()"
   ]
  },
  {
   "cell_type": "code",
   "execution_count": null,
   "id": "94f1c627-3dbf-47ea-82d4-157c9850c5a7",
   "metadata": {},
   "outputs": [
    {
     "name": "stderr",
     "output_type": "stream",
     "text": [
      "  0%|                                    | 221/93000 [00:44<4:29:12,  5.74it/s]"
     ]
    }
   ],
   "source": [
    "n_scenarios = 1000\n",
    "\n",
    "with MultiprocessingEvaluator(dike_model) as evaluator: \n",
    "    results = evaluator.perform_experiments(scenarios = n_scenarios, policies = policies)"
   ]
  },
  {
   "cell_type": "code",
   "execution_count": 7,
   "id": "55234bc0-927f-4cb4-a4c9-f65d8bb989d3",
   "metadata": {},
   "outputs": [],
   "source": [
    "#save_results((results), 'data/PR_results.tar.gz')"
   ]
  },
  {
   "cell_type": "code",
   "execution_count": 9,
   "id": "86f883f7-2ebc-4e9f-916a-48aee69aa1a4",
   "metadata": {},
   "outputs": [],
   "source": [
    "#results = load_results('data/PR_results.tar.gz')"
   ]
  },
  {
   "cell_type": "code",
   "execution_count": 11,
   "id": "3df3591b-c8d6-4aec-a747-38e017620b99",
   "metadata": {},
   "outputs": [],
   "source": [
    "def signal_to_noise(data, x):\n",
    "    mean = np.mean(data)\n",
    "    std = np.std(data)\n",
    "    return mean * std"
   ]
  },
  {
   "cell_type": "code",
   "execution_count": 15,
   "id": "8a97bf25-52b0-42c8-9ee1-fea4c217e793",
   "metadata": {},
   "outputs": [
    {
     "ename": "NameError",
     "evalue": "name 'results' is not defined",
     "output_type": "error",
     "traceback": [
      "\u001b[1;31m---------------------------------------------------------------------------\u001b[0m",
      "\u001b[1;31mNameError\u001b[0m                                 Traceback (most recent call last)",
      "Cell \u001b[1;32mIn[15], line 1\u001b[0m\n\u001b[1;32m----> 1\u001b[0m experiments, outcomes \u001b[38;5;241m=\u001b[39m results\n\u001b[0;32m      2\u001b[0m \u001b[38;5;28;01mdef\u001b[39;00m \u001b[38;5;21mplot_StN\u001b[39m():\n\u001b[0;32m      3\u001b[0m     all_scores \u001b[38;5;241m=\u001b[39m {}\n",
      "\u001b[1;31mNameError\u001b[0m: name 'results' is not defined"
     ]
    }
   ],
   "source": [
    "experiments, outcomes = results\n",
    "\n",
    "def ratios_policies():\n",
    "    all_scores = {}\n",
    "    for i in np.unique(experiments['policy']):\n",
    "        scores = {}\n",
    "        select_policy = experiments['policy'] == i\n",
    "        for j in dike_model.outcomes:\n",
    "            x = outcomes[j.name][select_policy]\n",
    "            ratio = signal_to_noise(x, j.kind)\n",
    "            scores[j.name] = ratio\n",
    "            all_scores[i] = scores\n",
    "            \n",
    "    scores_df = pd.DataFrame.from_dict(all_scores).T\n",
    "    return scores_df"
   ]
  },
  {
   "cell_type": "code",
   "execution_count": 17,
   "id": "0b7dca50-a429-429c-9a1a-f038c58b3911",
   "metadata": {},
   "outputs": [
    {
     "ename": "NameError",
     "evalue": "name 'ratios_policies' is not defined",
     "output_type": "error",
     "traceback": [
      "\u001b[1;31m---------------------------------------------------------------------------\u001b[0m",
      "\u001b[1;31mNameError\u001b[0m                                 Traceback (most recent call last)",
      "Cell \u001b[1;32mIn[17], line 1\u001b[0m\n\u001b[1;32m----> 1\u001b[0m scores \u001b[38;5;241m=\u001b[39m ratios_policies\n",
      "\u001b[1;31mNameError\u001b[0m: name 'ratios_policies' is not defined"
     ]
    }
   ],
   "source": [
    "scores = ratios_policies"
   ]
  },
  {
   "cell_type": "code",
   "execution_count": 45,
   "id": "0b8e895f-7c7a-4e8d-b202-d505dd2a74ea",
   "metadata": {},
   "outputs": [],
   "source": [
    "def plot_outcomes(data):\n",
    "    limits = parcoords.get_limits(data)\n",
    "    limits.loc[0, ['Expected Annual Damage', 'Expected Number of Deaths', 'Dike Investment Costs', 'RfR Investment Costs', 'Evacuation Costs']] = 0\n",
    "    axes = parcoords.ParallelAxes(limits)\n",
    "    axes.plot(data)\n",
    "    plt.show()"
   ]
  },
  {
   "cell_type": "code",
   "execution_count": 47,
   "id": "38dc2312-d901-4efb-8be3-23e531a3a721",
   "metadata": {},
   "outputs": [
    {
     "ename": "NameError",
     "evalue": "name 'scores' is not defined",
     "output_type": "error",
     "traceback": [
      "\u001b[1;31m---------------------------------------------------------------------------\u001b[0m",
      "\u001b[1;31mNameError\u001b[0m                                 Traceback (most recent call last)",
      "Cell \u001b[1;32mIn[47], line 1\u001b[0m\n\u001b[1;32m----> 1\u001b[0m plot_outcomes(scores)\n",
      "\u001b[1;31mNameError\u001b[0m: name 'scores' is not defined"
     ]
    }
   ],
   "source": [
    "plot_outcomes(scores)"
   ]
  },
  {
   "cell_type": "code",
   "execution_count": 23,
   "id": "da9840e6-66da-4858-be74-25bde239c6f5",
   "metadata": {},
   "outputs": [],
   "source": [
    "def filter_scores(n = 60):\n",
    "    filtered_scores = scores.drop(scores['Expected Number of Deaths'].nlargest(n).index)\n",
    "    print(len(filtered_scores))\n",
    "    return filtered_scores"
   ]
  },
  {
   "cell_type": "code",
   "execution_count": 29,
   "id": "973d255f-b8bd-4a9e-95d4-57e6dcf95082",
   "metadata": {},
   "outputs": [],
   "source": [
    "def select_filter_policies():\n",
    "    filtered_policies = filter_scores().reset_index()\n",
    "    filtered_policies = filtered_policies.iloc[:, 0]\n",
    "    filtered_policies.tolist()\n",
    "    return filtered_policies"
   ]
  },
  {
   "cell_type": "code",
   "execution_count": 31,
   "id": "61ceb6aa-01e1-4f4f-8456-42417fb1caf4",
   "metadata": {},
   "outputs": [
    {
     "ename": "NameError",
     "evalue": "name 'scores' is not defined",
     "output_type": "error",
     "traceback": [
      "\u001b[1;31m---------------------------------------------------------------------------\u001b[0m",
      "\u001b[1;31mNameError\u001b[0m                                 Traceback (most recent call last)",
      "Cell \u001b[1;32mIn[31], line 1\u001b[0m\n\u001b[1;32m----> 1\u001b[0m filtered_policies \u001b[38;5;241m=\u001b[39m select_filter_policies()\n",
      "Cell \u001b[1;32mIn[29], line 2\u001b[0m, in \u001b[0;36mselect_filter_policies\u001b[1;34m()\u001b[0m\n\u001b[0;32m      1\u001b[0m \u001b[38;5;28;01mdef\u001b[39;00m \u001b[38;5;21mselect_filter_policies\u001b[39m():\n\u001b[1;32m----> 2\u001b[0m     filtered_policies \u001b[38;5;241m=\u001b[39m filter_scores()\u001b[38;5;241m.\u001b[39mreset_index()\n\u001b[0;32m      3\u001b[0m     filtered_policies \u001b[38;5;241m=\u001b[39m filtered_policies\u001b[38;5;241m.\u001b[39miloc[:, \u001b[38;5;241m0\u001b[39m]\n\u001b[0;32m      4\u001b[0m     filtered_policies\u001b[38;5;241m.\u001b[39mtolist()\n",
      "Cell \u001b[1;32mIn[23], line 2\u001b[0m, in \u001b[0;36mfilter_scores\u001b[1;34m(n)\u001b[0m\n\u001b[0;32m      1\u001b[0m \u001b[38;5;28;01mdef\u001b[39;00m \u001b[38;5;21mfilter_scores\u001b[39m(n \u001b[38;5;241m=\u001b[39m \u001b[38;5;241m60\u001b[39m):\n\u001b[1;32m----> 2\u001b[0m     filtered_scores \u001b[38;5;241m=\u001b[39m scores\u001b[38;5;241m.\u001b[39mdrop(scores[\u001b[38;5;124m'\u001b[39m\u001b[38;5;124mExpected Number of Deaths\u001b[39m\u001b[38;5;124m'\u001b[39m]\u001b[38;5;241m.\u001b[39mnlargest(n)\u001b[38;5;241m.\u001b[39mindex)\n\u001b[0;32m      3\u001b[0m     \u001b[38;5;28mprint\u001b[39m(\u001b[38;5;28mlen\u001b[39m(filtered_scores))\n\u001b[0;32m      4\u001b[0m     \u001b[38;5;28;01mreturn\u001b[39;00m filtered_scores\n",
      "\u001b[1;31mNameError\u001b[0m: name 'scores' is not defined"
     ]
    }
   ],
   "source": [
    "filtered_policies = select_filter_policies()"
   ]
  },
  {
   "cell_type": "code",
   "execution_count": 33,
   "id": "be61f5ec-b77c-4870-aeea-c3ce8c51b638",
   "metadata": {},
   "outputs": [],
   "source": [
    "def calculate_regret(data, best):\n",
    "    return np.abs(best - data)"
   ]
  },
  {
   "cell_type": "code",
   "execution_count": 35,
   "id": "f5425b2c-6dab-4317-b07b-1924247a1b29",
   "metadata": {},
   "outputs": [
    {
     "ename": "NameError",
     "evalue": "name 'results' is not defined",
     "output_type": "error",
     "traceback": [
      "\u001b[1;31m---------------------------------------------------------------------------\u001b[0m",
      "\u001b[1;31mNameError\u001b[0m                                 Traceback (most recent call last)",
      "Cell \u001b[1;32mIn[35], line 1\u001b[0m\n\u001b[1;32m----> 1\u001b[0m experiments_for_regret, outcomes_for_regret \u001b[38;5;241m=\u001b[39m results\n\u001b[0;32m      3\u001b[0m \u001b[38;5;28;01mdef\u001b[39;00m \u001b[38;5;21mfind_best_outcome\u001b[39m():\n\u001b[0;32m      4\u001b[0m     all_regret \u001b[38;5;241m=\u001b[39m {}\n",
      "\u001b[1;31mNameError\u001b[0m: name 'results' is not defined"
     ]
    }
   ],
   "source": [
    "experiments_for_regret, outcomes_for_regret = results\n",
    "\n",
    "def find_best_outcome():\n",
    "    all_regret = {}\n",
    "    max_regret = {}\n",
    "    for outcome in dike_model.outcomes:\n",
    "        policy_column = experiments_for_regret['policy']\n",
    "        data = pd.DataFrame({outcome.name: outcomes_for_regret[outcome.name], 'policy': experiments_for_regret['policy'], 'scenario': experiments_for_regret['scenario']}) \n",
    "        data.pivot(index = 'scenario', columns = 'policy')\n",
    "        data.columns = data.columns.get_level_values(1)\n",
    "        outcome_regret = (data.max(axis=1).values[:, np.newaxis] - data).abs()\n",
    "        \n",
    "        all_regret[outcome.name] = outcome_regret\n",
    "        max_regret[outcome.name] = outcome_regret.max()\n",
    "\n",
    "    return all_regret, max_regret"
   ]
  },
  {
   "cell_type": "code",
   "execution_count": 39,
   "id": "e1a4cd66-6724-4959-a675-49fab75fe8d4",
   "metadata": {},
   "outputs": [
    {
     "ename": "NameError",
     "evalue": "name 'find_best_outcome' is not defined",
     "output_type": "error",
     "traceback": [
      "\u001b[1;31m---------------------------------------------------------------------------\u001b[0m",
      "\u001b[1;31mNameError\u001b[0m                                 Traceback (most recent call last)",
      "Cell \u001b[1;32mIn[39], line 1\u001b[0m\n\u001b[1;32m----> 1\u001b[0m all_regret, max_regret \u001b[38;5;241m=\u001b[39m find_best_outcome()\n\u001b[0;32m      2\u001b[0m all_regret \u001b[38;5;241m=\u001b[39m pd\u001b[38;5;241m.\u001b[39mDataFrame(all_regret)\n\u001b[0;32m      3\u001b[0m max_regret \u001b[38;5;241m=\u001b[39m pd\u001b[38;5;241m.\u001b[39mDataFrame(max_regret)\n",
      "\u001b[1;31mNameError\u001b[0m: name 'find_best_outcome' is not defined"
     ]
    }
   ],
   "source": [
    "all_regret, max_regret = find_best_outcome()\n",
    "all_regret = pd.DataFrame(all_regret)\n",
    "max_regret = pd.DataFrame(max_regret)"
   ]
  },
  {
   "cell_type": "code",
   "execution_count": 49,
   "id": "b1db641a-e08b-45f4-a475-21622e7af324",
   "metadata": {},
   "outputs": [
    {
     "ename": "NameError",
     "evalue": "name 'max_regret' is not defined",
     "output_type": "error",
     "traceback": [
      "\u001b[1;31m---------------------------------------------------------------------------\u001b[0m",
      "\u001b[1;31mNameError\u001b[0m                                 Traceback (most recent call last)",
      "Cell \u001b[1;32mIn[49], line 1\u001b[0m\n\u001b[1;32m----> 1\u001b[0m plot_outcomes(max_regret)\n",
      "\u001b[1;31mNameError\u001b[0m: name 'max_regret' is not defined"
     ]
    }
   ],
   "source": [
    "plot_outcomes(max_regret)"
   ]
  },
  {
   "cell_type": "code",
   "execution_count": 57,
   "id": "3a7b147f-c534-4b87-8ff3-d82ffdb281b8",
   "metadata": {},
   "outputs": [
    {
     "ename": "NameError",
     "evalue": "name 'all_regret' is not defined",
     "output_type": "error",
     "traceback": [
      "\u001b[1;31m---------------------------------------------------------------------------\u001b[0m",
      "\u001b[1;31mNameError\u001b[0m                                 Traceback (most recent call last)",
      "Cell \u001b[1;32mIn[57], line 2\u001b[0m\n\u001b[0;32m      1\u001b[0m policy_regret \u001b[38;5;241m=\u001b[39m defaultdict(\u001b[38;5;28mdict\u001b[39m)\n\u001b[1;32m----> 2\u001b[0m \u001b[38;5;28;01mfor\u001b[39;00m key, value \u001b[38;5;129;01min\u001b[39;00m all_regret\u001b[38;5;241m.\u001b[39mitems():\n\u001b[0;32m      3\u001b[0m     \u001b[38;5;28;01mfor\u001b[39;00m policy \u001b[38;5;129;01min\u001b[39;00m value:\n\u001b[0;32m      4\u001b[0m         policy_regret[policy][key] \u001b[38;5;241m=\u001b[39m value[policy]\n",
      "\u001b[1;31mNameError\u001b[0m: name 'all_regret' is not defined"
     ]
    }
   ],
   "source": [
    "policy_regret = defaultdict(dict)\n",
    "for key, value in all_regret.items():\n",
    "    for policy in value:\n",
    "        policy_regret[policy][key] = value[policy]"
   ]
  },
  {
   "cell_type": "code",
   "execution_count": 59,
   "id": "9d0fd8dc-5e4d-4353-87e2-155c0b7bc36a",
   "metadata": {},
   "outputs": [
    {
     "data": {
      "image/png": "[encoded data removed]",
      "text/plain": [
       "<Figure size 1000x500 with 2 Axes>"
      ]
     },
     "metadata": {},
     "output_type": "display_data"
    }
   ],
   "source": [
    "fig, axes = plt.subplots(ncols=2, figsize=(10,5), \n",
    "                         sharey=True, sharex=True)\n",
    "\n",
    "for ax, (policy, regret) in zip(axes, policy_regret.items()):\n",
    "    data = pd.DataFrame(regret)\n",
    "\n",
    "    data = data/max_regret.max(axis=0)\n",
    "    sns.boxplot(data=data, ax=ax)\n",
    "    \n",
    "    # removes top and left hand black outline of axes\n",
    "    sns.despine()\n",
    "    \n",
    "    # ensure we know which policy the figure is for\n",
    "    ax.set_title(str(policy))\n",
    "plt.show()"
   ]
  },
  {
   "cell_type": "code",
   "execution_count": 65,
   "id": "ba6e4ebf-c4db-4444-94b6-db3d1427e29a",
   "metadata": {},
   "outputs": [
    {
     "ename": "NameError",
     "evalue": "name 'experiments' is not defined",
     "output_type": "error",
     "traceback": [
      "\u001b[1;31m---------------------------------------------------------------------------\u001b[0m",
      "\u001b[1;31mNameError\u001b[0m                                 Traceback (most recent call last)",
      "Cell \u001b[1;32mIn[65], line 1\u001b[0m\n\u001b[1;32m----> 1\u001b[0m x \u001b[38;5;241m=\u001b[39m experiments\u001b[38;5;241m.\u001b[39miloc[:, :\u001b[38;5;241m19\u001b[39m] \u001b[38;5;66;03m# Aanpassen\u001b[39;00m\n\u001b[0;32m      2\u001b[0m y \u001b[38;5;241m=\u001b[39m outcomes[\u001b[38;5;124m'\u001b[39m\u001b[38;5;124mExpected Number of Deaths\u001b[39m\u001b[38;5;124m'\u001b[39m]\n\u001b[0;32m      3\u001b[0m a \u001b[38;5;241m=\u001b[39m y\u001b[38;5;241m.\u001b[39mquantile(\u001b[38;5;241m0.85\u001b[39m)\n",
      "\u001b[1;31mNameError\u001b[0m: name 'experiments' is not defined"
     ]
    }
   ],
   "source": [
    "x = experiments.iloc[:, :19] # Aanpassen\n",
    "y = outcomes['Expected Number of Deaths']\n",
    "a = y.quantile(0.85)\n",
    "Y = (y > a).astype(int).values\n",
    "\n",
    "prim_alg = prim.Prim(x, Y, threshold=0.5)\n",
    "box1 = prim_alg.find_box()"
   ]
  },
  {
   "cell_type": "code",
   "execution_count": 67,
   "id": "49086700-d978-4c85-b353-49daaf005d17",
   "metadata": {},
   "outputs": [
    {
     "ename": "NameError",
     "evalue": "name 'box1' is not defined",
     "output_type": "error",
     "traceback": [
      "\u001b[1;31m---------------------------------------------------------------------------\u001b[0m",
      "\u001b[1;31mNameError\u001b[0m                                 Traceback (most recent call last)",
      "Cell \u001b[1;32mIn[67], line 1\u001b[0m\n\u001b[1;32m----> 1\u001b[0m box1\u001b[38;5;241m.\u001b[39mshow_tradeoff()\n\u001b[0;32m      2\u001b[0m plt\u001b[38;5;241m.\u001b[39mshow()\n",
      "\u001b[1;31mNameError\u001b[0m: name 'box1' is not defined"
     ]
    }
   ],
   "source": [
    "box1.show_tradeoff()\n",
    "plt.show()"
   ]
  },
  {
   "cell_type": "code",
   "execution_count": 69,
   "id": "0e282663-e4cc-49fd-aa0d-d02e6b974268",
   "metadata": {},
   "outputs": [
    {
     "ename": "NameError",
     "evalue": "name 'box1' is not defined",
     "output_type": "error",
     "traceback": [
      "\u001b[1;31m---------------------------------------------------------------------------\u001b[0m",
      "\u001b[1;31mNameError\u001b[0m                                 Traceback (most recent call last)",
      "Cell \u001b[1;32mIn[69], line 1\u001b[0m\n\u001b[1;32m----> 1\u001b[0m box1\u001b[38;5;241m.\u001b[39minspect_tradeoff()\n",
      "\u001b[1;31mNameError\u001b[0m: name 'box1' is not defined"
     ]
    }
   ],
   "source": [
    "box1.inspect_tradeoff()"
   ]
  },
  {
   "cell_type": "code",
   "execution_count": 71,
   "id": "128e5cd9-514e-47c9-949d-c88878f4b731",
   "metadata": {},
   "outputs": [],
   "source": [
    "#box.inspect(42)"
   ]
  }
 ],
 "metadata": {
  "kernelspec": {
   "display_name": "Python 3 (ipykernel)",
   "language": "python",
   "name": "python3"
  },
  "language_info": {
   "codemirror_mode": {
    "name": "ipython",
    "version": 3
   },
   "file_extension": ".py",
   "mimetype": "text/x-python",
   "name": "python",
   "nbconvert_exporter": "python",
   "pygments_lexer": "ipython3",
   "version": "3.12.4"
  }
 },
 "nbformat": 4,
 "nbformat_minor": 5
}
