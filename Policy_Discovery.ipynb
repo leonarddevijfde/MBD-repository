{
 "cells": [
  {
   "cell_type": "code",
   "execution_count": 37,
   "id": "75e02a00-f958-4c57-83fc-c45ca7e1a028",
   "metadata": {},
   "outputs": [],
   "source": [
    "import os\n",
    "import pandas as pd\n",
    "import numpy as np\n",
    "import matplotlib.pyplot as plt\n",
    "import seaborn as sns"
   ]
  },
  {
   "cell_type": "code",
   "execution_count": 39,
   "id": "3a098558-03e9-4d71-8e30-4c7fc910c766",
   "metadata": {},
   "outputs": [],
   "source": [
    "# EMA Workbench imports\n",
    "import ema_workbench\n",
    "from ema_workbench import (\n",
    "    Model, Constraint, RealParameter, ScalarOutcome, MultiprocessingEvaluator,\n",
    "    ema_logging, Constant, Scenario, HypervolumeMetric,\n",
    "    GenerationalDistanceMetric, EpsilonIndicatorMetric,\n",
    "    InvertedGenerationalDistanceMetric, SpacingMetric)\n",
    "from ema_workbench.em_framework.optimization import (\n",
    "    EpsilonProgress, to_problem, ArchiveLogger, epsilon_nondominated)\n",
    "from ema_workbench.analysis import parcoords\n",
    "\n",
    "# Problem formulation import\n",
    "from problem_formulation import get_model_for_problem_formulation"
   ]
  },
  {
   "cell_type": "code",
   "execution_count": 41,
   "id": "8544cf18-4c56-4ef4-999d-703d1786ea05",
   "metadata": {},
   "outputs": [],
   "source": [
    "#Constants\n",
    "output_dir = 'archives'\n",
    "scenario_file = './data/Selected_Scenarios.csv'\n",
    "epsilon_values = [[1e6, 1e6, 1e6, 1e6, 1e6]]\n",
    "nfe = 20000\n",
    "outcomes_of_interest = [\n",
    "    'Expected Annual Damage',\n",
    "    'Dike Investment Costs',\n",
    "    'RfR Investment Costs',\n",
    "    'Evacuation Costs',\n",
    "    'Expected Number of Deaths'\n",
    "]"
   ]
  },
  {
   "cell_type": "code",
   "execution_count": 43,
   "id": "2afd359c-f462-452a-b4e4-856c8ead25a4",
   "metadata": {},
   "outputs": [],
   "source": [
    "def run_optimization(epsilon, scenarios, model, seeds=3):\n",
    "    \n",
    "    results = []\n",
    "    convergences = []\n",
    "\n",
    "    os.makedirs(output_dir, exist_ok=True)\n",
    "\n",
    "    with MultiprocessingEvaluator(model) as evaluator:\n",
    "        for scenario in scenarios:\n",
    "            for seed in range(seeds):\n",
    "                # Convergence Metrics\n",
    "                convergence_metrics = [\n",
    "                    ArchiveLogger(\n",
    "                        output_dir,\n",
    "                        [lever.name for lever in model.levers],\n",
    "                        [outcome.name for outcome in model.outcomes],\n",
    "                        base_filename=\"optimization.tar.gz\"\n",
    "                    ),\n",
    "                    EpsilonProgress()\n",
    "                ]\n",
    "\n",
    "                # Optimization\n",
    "                result, convergence = evaluator.optimize(\n",
    "                    nfe=nfe,\n",
    "                    searchover=\"levers\",\n",
    "                    epsilons=epsilon,\n",
    "                    constraints=None,\n",
    "                    convergence=convergence_metrics,\n",
    "                    reference=scenario\n",
    "                )\n",
    "\n",
    "                # Filenames\n",
    "                result_file = os.path.join(output_dir, f\"result__scen{scenario.name}__seed{seed}.csv\")\n",
    "                convergence_file = os.path.join(output_dir, f\"convergence__scen{scenario.name}__seed{seed}.csv\")\n",
    "\n",
    "                # Output\n",
    "                result.to_csv(result_file, index=False)\n",
    "                pd.DataFrame(convergence).to_csv(convergence_file, index=False)\n",
    "\n",
    "                # Saving Output\n",
    "                results.append(result)\n",
    "                convergences.append(convergence)\n",
    "\n",
    "    return results, convergences"
   ]
  },
  {
   "cell_type": "code",
   "execution_count": 45,
   "id": "5a9530eb-d428-453f-8d9a-fc458374bdba",
   "metadata": {},
   "outputs": [
    {
     "name": "stderr",
     "output_type": "stream",
     "text": [
      "[MainProcess/INFO] pool started with 8 workers\n",
      "[MainProcess/INFO] terminating pool\n"
     ]
    },
    {
     "ename": "FileExistsError",
     "evalue": "[WinError 183] Cannot create a file when that file already exists: 'C:\\\\Users\\\\maxva\\\\Downloads\\\\epa141A_open-master\\\\epa141A_open-master\\\\final assignment\\\\archives\\\\tmp'",
     "output_type": "error",
     "traceback": [
      "\u001b[1;31m---------------------------------------------------------------------------\u001b[0m",
      "\u001b[1;31mFileExistsError\u001b[0m                           Traceback (most recent call last)",
      "Cell \u001b[1;32mIn[45], line 37\u001b[0m\n\u001b[0;32m     34\u001b[0m         plot_parallel_coordinates(all_results, eps)\n\u001b[0;32m     36\u001b[0m \u001b[38;5;28;01mif\u001b[39;00m \u001b[38;5;18m__name__\u001b[39m \u001b[38;5;241m==\u001b[39m \u001b[38;5;124m'\u001b[39m\u001b[38;5;124m__main__\u001b[39m\u001b[38;5;124m'\u001b[39m:\n\u001b[1;32m---> 37\u001b[0m     main()\n",
      "Cell \u001b[1;32mIn[45], line 32\u001b[0m, in \u001b[0;36mmain\u001b[1;34m()\u001b[0m\n\u001b[0;32m     29\u001b[0m scenarios \u001b[38;5;241m=\u001b[39m load_scenarios(scenario_file)\n\u001b[0;32m     31\u001b[0m \u001b[38;5;28;01mfor\u001b[39;00m eps \u001b[38;5;129;01min\u001b[39;00m epsilon_values:\n\u001b[1;32m---> 32\u001b[0m     results, convergences \u001b[38;5;241m=\u001b[39m run_optimization(eps, scenarios, model)\n\u001b[0;32m     33\u001b[0m     all_results \u001b[38;5;241m=\u001b[39m load_results_from_files(output_dir)\n\u001b[0;32m     34\u001b[0m     plot_parallel_coordinates(all_results, eps)\n",
      "Cell \u001b[1;32mIn[43], line 13\u001b[0m, in \u001b[0;36mrun_optimization\u001b[1;34m(epsilon, scenarios, model, seeds)\u001b[0m\n\u001b[0;32m      9\u001b[0m \u001b[38;5;28;01mfor\u001b[39;00m scenario \u001b[38;5;129;01min\u001b[39;00m scenarios:\n\u001b[0;32m     10\u001b[0m     \u001b[38;5;28;01mfor\u001b[39;00m seed \u001b[38;5;129;01min\u001b[39;00m \u001b[38;5;28mrange\u001b[39m(seeds):\n\u001b[0;32m     11\u001b[0m         \u001b[38;5;66;03m# Convergence Metrics\u001b[39;00m\n\u001b[0;32m     12\u001b[0m         convergence_metrics \u001b[38;5;241m=\u001b[39m [\n\u001b[1;32m---> 13\u001b[0m             ArchiveLogger(\n\u001b[0;32m     14\u001b[0m                 output_dir,\n\u001b[0;32m     15\u001b[0m                 [lever\u001b[38;5;241m.\u001b[39mname \u001b[38;5;28;01mfor\u001b[39;00m lever \u001b[38;5;129;01min\u001b[39;00m model\u001b[38;5;241m.\u001b[39mlevers],\n\u001b[0;32m     16\u001b[0m                 [outcome\u001b[38;5;241m.\u001b[39mname \u001b[38;5;28;01mfor\u001b[39;00m outcome \u001b[38;5;129;01min\u001b[39;00m model\u001b[38;5;241m.\u001b[39moutcomes],\n\u001b[0;32m     17\u001b[0m                 base_filename\u001b[38;5;241m=\u001b[39m\u001b[38;5;124m\"\u001b[39m\u001b[38;5;124moptimization.tar.gz\u001b[39m\u001b[38;5;124m\"\u001b[39m\n\u001b[0;32m     18\u001b[0m             ),\n\u001b[0;32m     19\u001b[0m             EpsilonProgress()\n\u001b[0;32m     20\u001b[0m         ]\n\u001b[0;32m     22\u001b[0m         \u001b[38;5;66;03m# Optimization\u001b[39;00m\n\u001b[0;32m     23\u001b[0m         result, convergence \u001b[38;5;241m=\u001b[39m evaluator\u001b[38;5;241m.\u001b[39moptimize(\n\u001b[0;32m     24\u001b[0m             nfe\u001b[38;5;241m=\u001b[39mnfe,\n\u001b[0;32m     25\u001b[0m             searchover\u001b[38;5;241m=\u001b[39m\u001b[38;5;124m\"\u001b[39m\u001b[38;5;124mlevers\u001b[39m\u001b[38;5;124m\"\u001b[39m,\n\u001b[1;32m   (...)\u001b[0m\n\u001b[0;32m     29\u001b[0m             reference\u001b[38;5;241m=\u001b[39mscenario\n\u001b[0;32m     30\u001b[0m         )\n",
      "File \u001b[1;32m~\\anaconda3\\Lib\\site-packages\\ema_workbench\\em_framework\\optimization.py:684\u001b[0m, in \u001b[0;36mArchiveLogger.__init__\u001b[1;34m(self, directory, decision_varnames, outcome_varnames, base_filename)\u001b[0m\n\u001b[0;32m    682\u001b[0m \u001b[38;5;28mself\u001b[39m\u001b[38;5;241m.\u001b[39mdirectory \u001b[38;5;241m=\u001b[39m os\u001b[38;5;241m.\u001b[39mpath\u001b[38;5;241m.\u001b[39mabspath(directory)\n\u001b[0;32m    683\u001b[0m \u001b[38;5;28mself\u001b[39m\u001b[38;5;241m.\u001b[39mtemp \u001b[38;5;241m=\u001b[39m os\u001b[38;5;241m.\u001b[39mpath\u001b[38;5;241m.\u001b[39mjoin(\u001b[38;5;28mself\u001b[39m\u001b[38;5;241m.\u001b[39mdirectory, \u001b[38;5;124m\"\u001b[39m\u001b[38;5;124mtmp\u001b[39m\u001b[38;5;124m\"\u001b[39m)\n\u001b[1;32m--> 684\u001b[0m os\u001b[38;5;241m.\u001b[39mmkdir(\u001b[38;5;28mself\u001b[39m\u001b[38;5;241m.\u001b[39mtemp)\n\u001b[0;32m    686\u001b[0m \u001b[38;5;28mself\u001b[39m\u001b[38;5;241m.\u001b[39mbase \u001b[38;5;241m=\u001b[39m base_filename\n\u001b[0;32m    687\u001b[0m \u001b[38;5;28mself\u001b[39m\u001b[38;5;241m.\u001b[39mdecision_varnames \u001b[38;5;241m=\u001b[39m decision_varnames\n",
      "\u001b[1;31mFileExistsError\u001b[0m: [WinError 183] Cannot create a file when that file already exists: 'C:\\\\Users\\\\maxva\\\\Downloads\\\\epa141A_open-master\\\\epa141A_open-master\\\\final assignment\\\\archives\\\\tmp'"
     ]
    }
   ],
   "source": [
    "def ensure_directory_exists(directory):\n",
    "    if not os.path.exists(directory):\n",
    "        os.makedirs(directory)\n",
    "\n",
    "def load_scenarios(filepath):\n",
    "    df = pd.read_csv(filepath)\n",
    "    scenarios = []\n",
    "    for _, row in df.iterrows():\n",
    "        name = row['scenario']\n",
    "        parameters = row.drop(labels='scenario').to_dict()\n",
    "        scenarios.append(Scenario(name, **parameters))\n",
    "    return scenarios\n",
    "\n",
    "def plot_parallel_coordinates(results, eps):\n",
    "    outcomes = results[outcomes_of_interest]\n",
    "    limits = parcoords.get_limits(outcomes)\n",
    "    axes = parcoords.ParallelAxes(limits)\n",
    "    axes.plot(outcomes)\n",
    "    plt.title(f'Parallel Coordinates Plot for Epsilon {eps}')\n",
    "    plt.savefig(f'parallel_coordinates_eps_{eps}.png')\n",
    "    plt.show()\n",
    "\n",
    "def main():\n",
    "    ema_logging.log_to_stderr(ema_logging.INFO)\n",
    "    \n",
    "    ensure_directory_exists(output_dir)\n",
    "\n",
    "    model, steps = get_model_for_problem_formulation(2)\n",
    "    scenarios = load_scenarios(scenario_file)\n",
    "\n",
    "    for eps in epsilon_values:\n",
    "        results, convergences = run_optimization(eps, scenarios, model)\n",
    "        all_results = load_results_from_files(output_dir)\n",
    "        plot_parallel_coordinates(all_results, eps)\n",
    "\n",
    "if __name__ == '__main__':\n",
    "    main()"
   ]
  },
  {
   "cell_type": "code",
   "execution_count": 47,
   "id": "41c02e35-38e7-4471-9249-d25a215f62fa",
   "metadata": {},
   "outputs": [],
   "source": [
    "def load_results_from_files(directory):\n",
    "    \"\"\"\n",
    "    Loads all optimization result CSVs from a directory into a single DataFrame.\n",
    "    \"\"\"\n",
    "    results = []\n",
    "    for filename in os.listdir(directory):\n",
    "        if filename.startswith(\"result__\") and filename.endswith(\".csv\"):\n",
    "            filepath = os.path.join(directory, filename)\n",
    "            df = pd.read_csv(filepath)\n",
    "            results.append(df)\n",
    "    return pd.concat(results, ignore_index=True)"
   ]
  },
  {
   "cell_type": "code",
   "execution_count": 49,
   "id": "1bcfff6a-edbc-4af5-b0aa-734b8570ca34",
   "metadata": {},
   "outputs": [],
   "source": [
    "def get_minimizing_policies(objectives: np.ndarray) -> np.ndarray:\n",
    "    \"\"\"\n",
    "    Return a boolean mask indicating Pareto-optimal (non-dominated) policies.\n",
    "    Assumes all objectives are to be minimized.\n",
    "    \"\"\"\n",
    "    is_efficient = np.ones(objectives.shape[0], dtype=bool)\n",
    "    for i, c in enumerate(objectives):\n",
    "        if is_efficient[i]:\n",
    "            is_efficient[is_efficient] = np.any(objectives[is_efficient] < c, axis=1) | np.all(objectives[is_efficient] == c, axis=1)\n",
    "            is_efficient[i] = True\n",
    "    return is_efficient"
   ]
  },
  {
   "cell_type": "code",
   "execution_count": 51,
   "id": "60e64dab-f6a7-410d-b194-4080dc465a26",
   "metadata": {},
   "outputs": [],
   "source": [
    "def filter_pareto_optimal_policies(df, objectives):\n",
    "    \"\"\"\n",
    "    Filters a DataFrame to retain only the Pareto-optimal rows (minimization).\n",
    "    \"\"\"\n",
    "    objective_values = df[objectives].values\n",
    "    pareto_mask = get_minimizing_policies(objective_values)\n",
    "    return df[pareto_mask]\n"
   ]
  },
  {
   "cell_type": "code",
   "execution_count": 53,
   "id": "c65c989f-2bf9-44db-93e4-c7813847c97a",
   "metadata": {},
   "outputs": [
    {
     "ename": "FileNotFoundError",
     "evalue": "[WinError 3] The system cannot find the path specified: 'archives'",
     "output_type": "error",
     "traceback": [
      "\u001b[1;31m---------------------------------------------------------------------------\u001b[0m",
      "\u001b[1;31mFileNotFoundError\u001b[0m                         Traceback (most recent call last)",
      "Cell \u001b[1;32mIn[53], line 2\u001b[0m\n\u001b[0;32m      1\u001b[0m \u001b[38;5;66;03m# After running main()\u001b[39;00m\n\u001b[1;32m----> 2\u001b[0m all_results \u001b[38;5;241m=\u001b[39m load_results_from_files(output_dir)\n\u001b[0;32m      3\u001b[0m pareto_results \u001b[38;5;241m=\u001b[39m filter_pareto_optimal_policies(all_results, outcomes_of_interest)\n\u001b[0;32m      4\u001b[0m pareto_results\u001b[38;5;241m.\u001b[39mto_csv(\u001b[38;5;124m\"\u001b[39m\u001b[38;5;124mPareto_Optimal_Results.csv\u001b[39m\u001b[38;5;124m\"\u001b[39m, index\u001b[38;5;241m=\u001b[39m\u001b[38;5;28;01mFalse\u001b[39;00m)\n",
      "Cell \u001b[1;32mIn[47], line 6\u001b[0m, in \u001b[0;36mload_results_from_files\u001b[1;34m(directory)\u001b[0m\n\u001b[0;32m      2\u001b[0m \u001b[38;5;250m\u001b[39m\u001b[38;5;124;03m\"\"\"\u001b[39;00m\n\u001b[0;32m      3\u001b[0m \u001b[38;5;124;03mLoads all optimization result CSVs from a directory into a single DataFrame.\u001b[39;00m\n\u001b[0;32m      4\u001b[0m \u001b[38;5;124;03m\"\"\"\u001b[39;00m\n\u001b[0;32m      5\u001b[0m results \u001b[38;5;241m=\u001b[39m []\n\u001b[1;32m----> 6\u001b[0m \u001b[38;5;28;01mfor\u001b[39;00m filename \u001b[38;5;129;01min\u001b[39;00m os\u001b[38;5;241m.\u001b[39mlistdir(directory):\n\u001b[0;32m      7\u001b[0m     \u001b[38;5;28;01mif\u001b[39;00m filename\u001b[38;5;241m.\u001b[39mstartswith(\u001b[38;5;124m\"\u001b[39m\u001b[38;5;124mresult__\u001b[39m\u001b[38;5;124m\"\u001b[39m) \u001b[38;5;129;01mand\u001b[39;00m filename\u001b[38;5;241m.\u001b[39mendswith(\u001b[38;5;124m\"\u001b[39m\u001b[38;5;124m.csv\u001b[39m\u001b[38;5;124m\"\u001b[39m):\n\u001b[0;32m      8\u001b[0m         filepath \u001b[38;5;241m=\u001b[39m os\u001b[38;5;241m.\u001b[39mpath\u001b[38;5;241m.\u001b[39mjoin(directory, filename)\n",
      "\u001b[1;31mFileNotFoundError\u001b[0m: [WinError 3] The system cannot find the path specified: 'archives'"
     ]
    }
   ],
   "source": [
    "# After running main()\n",
    "all_results = load_results_from_files(output_dir)\n",
    "pareto_results = filter_pareto_optimal_policies(all_results, outcomes_of_interest)\n",
    "pareto_results.to_csv(\"Pareto_Optimal_Results.csv\", index=False)\n",
    "print(\"Saved Pareto-optimal policies to pareto_optimal_results.csv\")"
   ]
  }
 ],
 "metadata": {
  "kernelspec": {
   "display_name": "Python 3 (ipykernel)",
   "language": "python",
   "name": "python3"
  },
  "language_info": {
   "codemirror_mode": {
    "name": "ipython",
    "version": 3
   },
   "file_extension": ".py",
   "mimetype": "text/x-python",
   "name": "python",
   "nbconvert_exporter": "python",
   "pygments_lexer": "ipython3",
   "version": "3.12.4"
  }
 },
 "nbformat": 4,
 "nbformat_minor": 5
}
