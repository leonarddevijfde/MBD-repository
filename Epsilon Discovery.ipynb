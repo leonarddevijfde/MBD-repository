{
 "cells": [
  {
   "cell_type": "code",
   "execution_count": 1,
   "id": "eb8cc056-285a-4467-a343-bd77d6dc13c9",
   "metadata": {},
   "outputs": [
    {
     "name": "stderr",
     "output_type": "stream",
     "text": [
      "c:\\Users\\quint\\Documents\\Ralph\\.venv\\Lib\\site-packages\\ema_workbench\\em_framework\\__init__.py:101: UserWarning: ipyparallel not installed - IpyparalleEvaluator not available\n",
      "  warnings.warn(\"ipyparallel not installed - IpyparalleEvaluator not available\")\n"
     ]
    }
   ],
   "source": [
    "import os\n",
    "import shutil\n",
    "import pandas as pd\n",
    "import numpy as np\n",
    "import seaborn as sns\n",
    "import matplotlib.pyplot as plt\n",
    "\n",
    "from ema_workbench import (\n",
    "    Model, RealParameter, ScalarOutcome, MultiprocessingEvaluator,\n",
    "    ema_logging, Constant, Scenario, HypervolumeMetric,\n",
    "    GenerationalDistanceMetric, EpsilonIndicatorMetric,\n",
    "    InvertedGenerationalDistanceMetric, SpacingMetric, Constraint)\n",
    "\n",
    "from ema_workbench.em_framework.optimization import (\n",
    "    EpsilonProgress, ArchiveLogger)\n",
    "\n",
    "from problem_formulation import get_model_for_problem_formulation"
   ]
  },
  {
   "cell_type": "code",
   "execution_count": 54,
   "id": "9751edb4-3e18-49f5-831b-03d9e16e4e53",
   "metadata": {},
   "outputs": [],
   "source": [
    "def execute_search(eps_vals, eval_count, scen_list):\n",
    "    output_data = []\n",
    "    progress_data = []\n",
    "\n",
    "    archive_path = \"./archives_epsilon\"\n",
    "    os.makedirs(archive_path, exist_ok=True)\n",
    "\n",
    "    with MultiprocessingEvaluator(sim_model) as runner:\n",
    "        for s in scen_list:\n",
    "            for rep in range(3):\n",
    "                temp_path = os.path.join(archive_path, \"tmp\")\n",
    "                if os.path.exists(temp_path):\n",
    "                    shutil.rmtree(temp_path)\n",
    "\n",
    "                metrics = [\n",
    "                    ArchiveLogger(\n",
    "                        archive_path,\n",
    "                        [x.name for x in sim_model.levers],\n",
    "                        [y.name for y in sim_model.outcomes],\n",
    "                        base_filename=\"optimization.tar.gz\",\n",
    "                    ),\n",
    "                    EpsilonProgress()\n",
    "                ]\n",
    "\n",
    "                res, prog = runner.optimize(\n",
    "                    nfe=eval_count,\n",
    "                    searchover=\"levers\",\n",
    "                    epsilons=eps_vals,\n",
    "                    constraints=None,\n",
    "                    convergence=metrics,\n",
    "                    reference=s,\n",
    "                )\n",
    "\n",
    "                res_path = archive_path\n",
    "                os.makedirs(res_path, exist_ok=True)\n",
    "\n",
    "                res.to_csv(os.path.join(res_path, f\"output__scen{s.name}__run{rep}.csv\"))\n",
    "                pd.DataFrame(prog).to_csv(os.path.join(res_path, f\"log__scen{s.name}__run{rep}.csv\"))\n",
    "\n",
    "                output_data.append(res)\n",
    "                progress_data.append(prog)\n",
    "\n",
    "    return output_data, progress_data\n",
    "\n"
   ]
  },
  {
   "cell_type": "code",
   "execution_count": 55,
   "id": "3509a764-4693-4f25-8258-63f6ef390a24",
   "metadata": {},
   "outputs": [],
   "source": [
    "def read_optimization_data(folder):\n",
    "    collected = []\n",
    "    for file in os.listdir(folder):\n",
    "        if file.startswith('output__') and file.endswith('.csv'):\n",
    "            df = pd.read_csv(os.path.join(folder, file))\n",
    "            collected.append(df)\n",
    "    return pd.concat(collected)\n"
   ]
  },
  {
   "cell_type": "code",
   "execution_count": null,
   "id": "94137e42-30bc-40a6-adfc-0d1fadd298a9",
   "metadata": {},
   "outputs": [
    {
     "name": "stderr",
     "output_type": "stream",
     "text": [
      "[MainProcess/INFO] pool started with 12 workers\n",
      "\n",
      "  0%|                                                | 0/10000 [00:00<?, ?it/s]\u001b[A"
     ]
    }
   ],
   "source": [
    "\n",
    "if __name__ == '__main__':\n",
    "    ema_logging.log_to_stderr(ema_logging.INFO)\n",
    "    sim_model, _ = get_model_for_problem_formulation(2)\n",
    "\n",
    "    scen_df = pd.read_csv(\"./data/Selected_Scenarios.csv\")\n",
    "    scenario_bank = []\n",
    "\n",
    "    for idx in range(scen_df.shape[0]):\n",
    "        scen_data = {}\n",
    "        for col in scen_df.columns:\n",
    "            if col == 'scenario':\n",
    "                continue\n",
    "            scen_data[col] = scen_df.loc[idx, col]\n",
    "        generated = Scenario(scen_df.loc[idx, 'scenario'], **scen_data)\n",
    "        scenario_bank.append(generated)\n",
    "\n",
    "    eps_sets = [\n",
    "        [1000000, 1000000, 1000000, 10, 1000000],\n",
    "        [10000, 10000, 10000, 1, 10000],\n",
    "        [1000, 1000, 1000, 0.1, 1000]\n",
    "    ]\n",
    "    evals = 10000\n",
    "\n",
    "    for eps in eps_sets:\n",
    "        outputs, logs = execute_search(eps, evals, scenario_bank)\n",
    "        collected_data = read_optimization_data(\"./archives_epsilon\")\n",
    "\n",
    "        print(f\"Total solutions for ε={eps}: {collected_data.shape[0]}\")\n",
    "\n",
    "        key_outputs = [\n",
    "            'Expected Annual Damage',\n",
    "            'Dike Investment Costs',\n",
    "            'RfR Investment Costs',\n",
    "            'Evacuation Costs',\n",
    "            'Expected Number of Deaths'\n",
    "        ]\n",
    "\n",
    "        subset = collected_data[key_outputs]\n",
    "\n",
    "        sns.pairplot(subset, diag_kind=\"kde\", corner=True)\n",
    "        plt.suptitle(f\"Outcome Scatter Matrix for ε={eps}\", fontsize=14)\n",
    "        plt.tight_layout()\n",
    "        plt.savefig(f\"scatter_matrix_eps_{str(eps).replace(',','_')}.png\")\n",
    "        plt.show()"
   ]
  },
  {
   "cell_type": "code",
   "execution_count": null,
   "id": "9c3467e1-4f15-4385-9c18-6e6fab2db01c",
   "metadata": {},
   "outputs": [],
   "source": []
  }
 ],
 "metadata": {
  "kernelspec": {
   "display_name": ".venv",
   "language": "python",
   "name": "python3"
  },
  "language_info": {
   "codemirror_mode": {
    "name": "ipython",
    "version": 3
   },
   "file_extension": ".py",
   "mimetype": "text/x-python",
   "name": "python",
   "nbconvert_exporter": "python",
   "pygments_lexer": "ipython3",
   "version": "3.12.3"
  }
 },
 "nbformat": 4,
 "nbformat_minor": 5
}
